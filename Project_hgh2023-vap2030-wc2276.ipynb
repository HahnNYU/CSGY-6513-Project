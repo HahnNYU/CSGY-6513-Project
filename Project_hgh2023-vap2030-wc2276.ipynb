{
 "cells": [
  {
   "cell_type": "markdown",
   "id": "4ab7698a",
   "metadata": {},
   "source": [
    "# Read in the dataset"
   ]
  },
  {
   "cell_type": "code",
   "execution_count": 1,
   "id": "b9fc2ff5",
   "metadata": {
    "scrolled": true
   },
   "outputs": [
    {
     "name": "stdout",
     "output_type": "stream",
     "text": [
      "Using \"Historical DOB Permit Issuance\" in file ./bty7-2jhb.tsv.gz of size 321.34 MB\n"
     ]
    }
   ],
   "source": [
    "import gzip\n",
    "import os\n",
    "import humanfriendly\n",
    "import numpy as np\n",
    "import pandas as pd\n",
    "\n",
    "from openclean.data.source.socrata import Socrata\n",
    "\n",
    "import warnings\n",
    "warnings.filterwarnings('ignore')\n",
    "\n",
    "# Set the unique id of the dataset you want to use here\n",
    "db_id = 'bty7-2jhb'\n",
    "\n",
    "dataset = Socrata().dataset(db_id)\n",
    "\n",
    "datafile = f'./{db_id}.tsv.gz'\n",
    "\n",
    "# Download file if it doesn't exist\n",
    "if not os.path.isfile(datafile):\n",
    "    with gzip.open(datafile, 'wb') as  f:\n",
    "        print('Downloading ...\\n')\n",
    "        dataset.write(f)\n",
    "\n",
    "fsize = humanfriendly.format_size(os.stat(datafile).st_size)\n",
    "print(f'Using \"{dataset.name}\" in file {datafile} of size {fsize}')"
   ]
  },
  {
   "cell_type": "markdown",
   "id": "c297c691",
   "metadata": {},
   "source": [
    "## Create data stream"
   ]
  },
  {
   "cell_type": "code",
   "execution_count": 2,
   "id": "fb474f55",
   "metadata": {},
   "outputs": [],
   "source": [
    "from openclean.pipeline import stream\n",
    "\n",
    "ds_full = stream(datafile)"
   ]
  },
  {
   "cell_type": "markdown",
   "id": "c764ae99",
   "metadata": {},
   "source": [
    "## Clean city data"
   ]
  },
  {
   "cell_type": "code",
   "execution_count": 3,
   "id": "bc5d2422",
   "metadata": {},
   "outputs": [
    {
     "data": {
      "text/plain": [
       "<openclean.pipeline.DataPipeline at 0x7fb115f1fee0>"
      ]
     },
     "execution_count": 3,
     "metadata": {},
     "output_type": "execute_result"
    }
   ],
   "source": [
    "from fuzzywuzzy import fuzz\n",
    "import json\n",
    "\n",
    "from openclean.data.refdata import RefStore\n",
    "from openclean.function.value.null import is_empty\n",
    "\n",
    "def clean_city_name(name, valid_city_lookup):\n",
    "    if is_empty(name):\n",
    "        return 'N/A'\n",
    "    return valid_city_lookup.get(name.upper(), 'N/A')\n",
    "\n",
    "\n",
    "def clean_city_data(ds, column_name):\n",
    "    # Download the license plate state codes dataset.\n",
    "    refdata = RefStore()\n",
    "    refdata\\\n",
    "        .load('encyclopaedia_britannica:us_cities', auto_download=True)\\\n",
    "        .df()\\\n",
    "\n",
    "    # Get set of distinct state codes.\n",
    "    city_ref = refdata.load('encyclopaedia_britannica:us_cities', auto_download=True).distinct('city')\n",
    "    # Get list of distinct owner house city names\n",
    "    city_names = ds.distinct(column_name)\n",
    "    # Init lookup dictionary for fuzzy matching\n",
    "    city_ref_lookup = {}\n",
    "    ref_file_name = 'city_ref_lookup.json'\n",
    "    # \n",
    "    if os.path.isfile(ref_file_name):\n",
    "        with open(ref_file_name) as f:\n",
    "            city_ref_lookup = json.load(f)\n",
    "    # compare city name to each valid city and add to lookup table\n",
    "    # if the similarity is high enough\n",
    "    for city in city_names:\n",
    "        if is_empty(city):\n",
    "            continue\n",
    "        name = city.upper()\n",
    "        if city_ref_lookup.get(name):\n",
    "            continue\n",
    "        if (name == 'NYC' or \n",
    "              name == 'NY' or\n",
    "              fuzz.ratio('NY', name) > 70 or\n",
    "              fuzz.ratio('NYC', name) > 70):\n",
    "            city_ref_lookup[name] = 'NEW YORK'\n",
    "            continue\n",
    "        found_match = False\n",
    "        for valid_city in city_ref:\n",
    "            percent_match = fuzz.ratio(valid_city.upper(), name)\n",
    "            if percent_match > 70:\n",
    "                found_match = True\n",
    "                city_ref_lookup[name] = valid_city.upper()\n",
    "                break\n",
    "        if not found_match:\n",
    "            city_ref_lookup[name] = 'N/A'\n",
    "\n",
    "    cleaned_data = ds.update(column_name, lambda x: clean_city_name(x, city_ref_lookup))\n",
    "    with open(ref_file_name, 'w') as f:\n",
    "        json.dump(city_ref_lookup, f)\n",
    "    return cleaned_data\n",
    "\n",
    "# Second argument is column name in dataset for city data\n",
    "clean_city_data(ds_full, 'Owner’s House City')"
   ]
  },
  {
   "cell_type": "code",
   "execution_count": null,
   "id": "f51573e5",
   "metadata": {},
   "outputs": [],
   "source": []
  }
 ],
 "metadata": {
  "kernelspec": {
   "display_name": "Python 3 (ipykernel)",
   "language": "python",
   "name": "python3"
  },
  "language_info": {
   "codemirror_mode": {
    "name": "ipython",
    "version": 3
   },
   "file_extension": ".py",
   "mimetype": "text/x-python",
   "name": "python",
   "nbconvert_exporter": "python",
   "pygments_lexer": "ipython3",
   "version": "3.9.5"
  }
 },
 "nbformat": 4,
 "nbformat_minor": 5
}
